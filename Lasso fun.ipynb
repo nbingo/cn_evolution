{
 "cells": [
  {
   "cell_type": "code",
   "execution_count": 2,
   "metadata": {},
   "outputs": [],
   "source": [
    "from sklearn.linear_model import ElasticNet, Lasso\n",
    "import numpy as np\n",
    "import matplotlib.pyplot as plt"
   ]
  },
  {
   "cell_type": "code",
   "execution_count": 3,
   "metadata": {},
   "outputs": [],
   "source": [
    "# Generate some sparse data to play with\n",
    "np.random.seed(42)\n",
    "\n",
    "n_samples, n_features = 50, 100\n",
    "X = np.random.randn(n_samples, n_features)\n",
    "\n",
    "# Decreasing coef w. alternated signs for visualization\n",
    "idx = np.arange(n_features)\n",
    "coef = (-1) ** idx * np.exp(-idx / 10)\n",
    "coef[10:] = 0  # sparsify coef\n",
    "y = np.dot(X, coef)"
   ]
  },
  {
   "cell_type": "code",
   "execution_count": 4,
   "metadata": {},
   "outputs": [],
   "source": [
    "# Add noise\n",
    "y += 0.01 * np.random.normal(size=n_samples)\n",
    "\n",
    "# Split data in train set and test set\n",
    "n_samples = X.shape[0]\n",
    "X_train, y_train = X[:n_samples // 2], y[:n_samples // 2]\n",
    "X_test, y_test = X[n_samples // 2:], y[n_samples // 2:]"
   ]
  },
  {
   "cell_type": "code",
   "execution_count": 6,
   "metadata": {},
   "outputs": [
    {
     "data": {
      "text/plain": [
       "array([ 0.05868774,  0.01573947, -1.72365514,  1.0720574 , -2.42506067,\n",
       "       -2.05349311, -0.76568952, -5.61060388,  3.0029248 , -1.80683056,\n",
       "        2.20123171,  6.61372855, -1.17800038,  0.06802314, -1.53573425,\n",
       "        0.1122106 , -1.62186833, -0.1906823 ,  1.0707779 ,  0.44898261,\n",
       "       -2.04287716, -3.35829499,  3.09247636,  1.19401381, -1.09040506,\n",
       "        0.56876276, -1.74495231, -0.90828142,  0.80771497, -2.22494833,\n",
       "        0.01749412, -1.65066486, -1.8008078 ,  3.1278658 ,  1.42396057,\n",
       "        2.91664859,  1.12743261, -1.45182882, -0.98781938,  4.89674593,\n",
       "       -4.08959078, -1.57164298,  3.35542511, -1.03076004, -2.03530214,\n",
       "       -1.12951198, -1.07915963,  2.35449225,  0.82627719,  0.58702813])"
      ]
     },
     "execution_count": 6,
     "metadata": {},
     "output_type": "execute_result"
    }
   ],
   "source": [
    "y"
   ]
  },
  {
   "cell_type": "code",
   "execution_count": null,
   "metadata": {},
   "outputs": [],
   "source": [
    "# #############################################################################\n",
    "# Lasso\n",
    "\n",
    "alpha = 0.1\n",
    "lasso = Lasso(alpha=alpha)\n",
    "\n",
    "y_pred_lasso = lasso.fit(X_train, y_train).predict(X_test)\n",
    "r2_score_lasso = r2_score(y_test, y_pred_lasso)\n",
    "print(lasso)\n",
    "print(\"r^2 on test data : %f\" % r2_score_lasso)"
   ]
  },
  {
   "cell_type": "code",
   "execution_count": 1,
   "metadata": {},
   "outputs": [],
   "source": [
    "import torch\n",
    "# assert '.'.join(torch.__version__.split('.')[:2]) == '1.4'\n",
    "import torch.nn as nn\n",
    "import torch.optim as optim\n",
    "from torch.utils.data import DataLoader\n",
    "from torch.utils.data import sampler\n",
    "\n",
    "import torchvision.datasets as dset\n",
    "import torchvision.transforms as T\n",
    "\n",
    "import numpy as np"
   ]
  },
  {
   "cell_type": "code",
   "execution_count": 2,
   "metadata": {},
   "outputs": [
    {
     "name": "stdout",
     "output_type": "stream",
     "text": [
      "using device: cpu\n"
     ]
    }
   ],
   "source": [
    "USE_GPU = True\n",
    "\n",
    "dtype = torch.float32 # we will be using float throughout this tutorial\n",
    "\n",
    "if USE_GPU and torch.cuda.is_available():\n",
    "    device = torch.device('cuda')\n",
    "else:\n",
    "    device = torch.device('cpu')\n",
    "\n",
    "# Constant to control how frequently we print train loss\n",
    "print_every = 100\n",
    "\n",
    "print('using device:', device)"
   ]
  },
  {
   "cell_type": "code",
   "execution_count": null,
   "metadata": {},
   "outputs": [],
   "source": []
  }
 ],
 "metadata": {
  "kernelspec": {
   "display_name": "Python 3",
   "language": "python",
   "name": "python3"
  },
  "language_info": {
   "codemirror_mode": {
    "name": "ipython",
    "version": 3
   },
   "file_extension": ".py",
   "mimetype": "text/x-python",
   "name": "python",
   "nbconvert_exporter": "python",
   "pygments_lexer": "ipython3",
   "version": "3.8.5"
  }
 },
 "nbformat": 4,
 "nbformat_minor": 4
}
